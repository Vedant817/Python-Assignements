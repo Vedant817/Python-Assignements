{
  "nbformat": 4,
  "nbformat_minor": 0,
  "metadata": {
    "colab": {
      "provenance": [],
      "authorship_tag": "ABX9TyNKtgB1AtnNSQCryqesiU8G",
      "include_colab_link": true
    },
    "kernelspec": {
      "name": "python3",
      "display_name": "Python 3"
    },
    "language_info": {
      "name": "python"
    }
  },
  "cells": [
    {
      "cell_type": "markdown",
      "metadata": {
        "id": "view-in-github",
        "colab_type": "text"
      },
      "source": [
        "<a href=\"https://colab.research.google.com/github/Vedant817/Python-Assignements/blob/main/Mini_Project_1.ipynb\" target=\"_parent\"><img src=\"https://colab.research.google.com/assets/colab-badge.svg\" alt=\"Open In Colab\"/></a>"
      ]
    },
    {
      "cell_type": "markdown",
      "source": [
        "**Question 1**\n",
        "\n",
        "Find all the subsets from a set of numbers whose sum is zero.\n",
        "\n",
        "Constraint: Subset size must be 5\n",
        "Set={-12, -3, -6, 7, 2, -2, 6, 3, 9, -7, -5, -8, 1, 11, -9, -4}"
      ],
      "metadata": {
        "id": "HmCv5Tjas8s4"
      }
    },
    {
      "cell_type": "code",
      "execution_count": 3,
      "metadata": {
        "colab": {
          "base_uri": "https://localhost:8080/"
        },
        "id": "YnWkHp57sx2H",
        "outputId": "8923608d-ec28-48a1-ae94-8f51e2e8ce59"
      },
      "outputs": [
        {
          "output_type": "stream",
          "name": "stdout",
          "text": [
            "(6, -2, 3, -8, 1)\n",
            "(-8, -9, 9, 2, 6)\n",
            "(-8, -2, 2, 1, 7)\n",
            "(-12, 11, 9, -6, -2)\n",
            "(7, 3, 1, -4, -7)\n",
            "(-12, 6, -4, 9, 1)\n",
            "(-8, 7, 1, -2, 2)\n",
            "(11, -3, -8, 2, -2)\n",
            "(1, 2, -8, 9, -4)\n",
            "(7, -8, -3, -2, 6)\n",
            "(-6, 9, 3, 6, -12)\n",
            "(-12, 6, 9, -5, 2)\n",
            "(-6, 6, -9, 7, 2)\n",
            "(-12, 6, 2, 3, 1)\n",
            "(1, -8, -2, 2, 7)\n",
            "(2, 9, -6, 7, -12)\n",
            "(9, -6, -3, -2, 2)\n",
            "(11, -3, -9, -6, 7)\n",
            "(-6, -3, 6, 7, -4)\n",
            "(1, -12, 7, -5, 9)\n",
            "(-12, 7, -4, 3, 6)\n",
            "(-12, -3, 7, 6, 2)\n",
            "(-9, 11, 3, 7, -12)\n",
            "(-7, 9, -6, 1, 3)\n",
            "(7, 9, -4, -7, -5)\n",
            "(-2, 9, -9, -5, 7)\n",
            "(3, -7, 9, -12, 7)\n",
            "(-2, 6, -9, -6, 11)\n",
            "(-5, -2, -4, 2, 9)\n",
            "(9, -9, 3, -4, 1)\n",
            "(3, -12, 2, 11, -4)\n",
            "(9, -8, 6, 2, -9)\n",
            "(1, -12, -2, 6, 7)\n",
            "(-8, 9, 7, -6, -2)\n",
            "34\n"
          ]
        },
        {
          "output_type": "stream",
          "name": "stderr",
          "text": [
            "<ipython-input-3-607aa83b7d35>:7: DeprecationWarning: Sampling from a set deprecated\n",
            "since Python 3.9 and will be removed in a subsequent version.\n",
            "  X=r.sample(Set,Num)\n"
          ]
        }
      ],
      "source": [
        "import random as r\n",
        "Set={-12, -3, -6, 7, 2, -2, 6, 3, 9, -7, -5, -8, 1, 11, -9, -4}\n",
        "Num=5\n",
        "ResultSet=set()\n",
        "iterations=1000\n",
        "for i in range(iterations):\n",
        "  X=r.sample(Set,Num)\n",
        "  if sum(X)==0:\n",
        "    ResultSet.add(tuple(X))\n",
        "for item in ResultSet:\n",
        "  print(item)\n",
        "print(len(ResultSet))"
      ]
    },
    {
      "cell_type": "markdown",
      "source": [
        "***Question 2***\n",
        "\n",
        "Find all the subsets from a set of numbers whose sum is zero.\n",
        "\n",
        "Constraint: Subset size must be 3 to 6 only\n",
        "Set={-12, -3, -6, 7, 2, -2, 6, 3, 9, -7, -5, -8, 1, 11, -9, -4}"
      ],
      "metadata": {
        "id": "j3eSKcMjuga4"
      }
    },
    {
      "cell_type": "code",
      "source": [
        "import random as r\n",
        "Set={-12, -3, -6, 7, 2, -2, 6, 3, 9, -7, -5, -8, 1, 11, -9, -4}\n",
        "ResultSet=set()\n",
        "X=set()\n",
        "iterations=1000\n",
        "# 3 Elements\n",
        "for i in range(iterations):\n",
        "  X=r.sample(Set,3)\n",
        "if sum(X)==0:\n",
        "  ResultSet.add(tuple(X))\n",
        "# 4 Elements\n",
        "for i in range(iterations):\n",
        "  X=r.sample(Set,4)\n",
        "if sum(X)==0:\n",
        "  ResultSet.add(tuple(X))\n",
        "# 5 Elements\n",
        "for i in range(iterations):\n",
        "  X=r.sample(Set,5)\n",
        "if sum(X)==0:\n",
        "  ResultSet.add(tuple(X))\n",
        "# 6 Elements\n",
        "for i in range(iterations):\n",
        "  X=r.sample(Set,6)\n",
        "if sum(X)==0:\n",
        "  ResultSet.add(tuple(X))\n",
        "# Printing the Cases\n",
        "for item in tuple(ResultSet):\n",
        "  print(item)\n",
        "print(len(ResultSet))"
      ],
      "metadata": {
        "colab": {
          "base_uri": "https://localhost:8080/"
        },
        "id": "unyl-l7FumSy",
        "outputId": "da7ccb62-dd01-4deb-d1f4-a3672802c707"
      },
      "execution_count": 7,
      "outputs": [
        {
          "output_type": "stream",
          "name": "stdout",
          "text": [
            "0\n"
          ]
        },
        {
          "output_type": "stream",
          "name": "stderr",
          "text": [
            "<ipython-input-7-d6dbe357d58b>:8: DeprecationWarning: Sampling from a set deprecated\n",
            "since Python 3.9 and will be removed in a subsequent version.\n",
            "  X=r.sample(Set,3)\n",
            "<ipython-input-7-d6dbe357d58b>:13: DeprecationWarning: Sampling from a set deprecated\n",
            "since Python 3.9 and will be removed in a subsequent version.\n",
            "  X=r.sample(Set,4)\n",
            "<ipython-input-7-d6dbe357d58b>:18: DeprecationWarning: Sampling from a set deprecated\n",
            "since Python 3.9 and will be removed in a subsequent version.\n",
            "  X=r.sample(Set,5)\n",
            "<ipython-input-7-d6dbe357d58b>:23: DeprecationWarning: Sampling from a set deprecated\n",
            "since Python 3.9 and will be removed in a subsequent version.\n",
            "  X=r.sample(Set,6)\n"
          ]
        }
      ]
    }
  ]
}