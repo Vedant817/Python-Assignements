{
  "nbformat": 4,
  "nbformat_minor": 0,
  "metadata": {
    "colab": {
      "provenance": [],
      "authorship_tag": "ABX9TyOjhzz6CC10xqgQ1T0U9Ymv",
      "include_colab_link": true
    },
    "kernelspec": {
      "name": "python3",
      "display_name": "Python 3"
    },
    "language_info": {
      "name": "python"
    }
  },
  "cells": [
    {
      "cell_type": "markdown",
      "metadata": {
        "id": "view-in-github",
        "colab_type": "text"
      },
      "source": [
        "<a href=\"https://colab.research.google.com/github/Vedant817/Python-Assignements/blob/main/Mini_Project_2.ipynb\" target=\"_parent\"><img src=\"https://colab.research.google.com/assets/colab-badge.svg\" alt=\"Open In Colab\"/></a>"
      ]
    },
    {
      "cell_type": "markdown",
      "source": [
        "**Find all the list of products whose sum-of-price is between 290 and 310.**\n",
        "\n",
        "**ProductList = {p1:10, p2:15, p3:20, p4:25, p5:30, p6:35, p7:50}**"
      ],
      "metadata": {
        "id": "c0HsGP3_0Qc6"
      }
    },
    {
      "cell_type": "code",
      "execution_count": 4,
      "metadata": {
        "colab": {
          "base_uri": "https://localhost:8080/"
        },
        "id": "BgHxwVrK0Lph",
        "outputId": "6292e799-c2c3-4efc-ddb1-5b96f13adce7"
      },
      "outputs": [
        {
          "output_type": "stream",
          "name": "stdout",
          "text": [
            "{'p1': 10, 'p2': 15, 'p3': 20, 'p4': 25, 'p5': 30, 'p6': 35, 'p7': 50, 'p8': 40, 'p9': 55, 'p10': 60, 'p11': 65, 'p12': 75, 'p13': 70, 'p14': 45}\n"
          ]
        }
      ],
      "source": [
        "import random as r\n",
        "ProductList = {'p1':10, 'p2':15, 'p3':20, 'p4':25, 'p5':30, 'p6':35, 'p7':50,\n",
        "               'p8':40, 'p9':55, 'p10':60, 'p11':65, 'p12':75, 'p13':70,\n",
        "               'p14':45}\n",
        "print(ProductList)"
      ]
    },
    {
      "cell_type": "code",
      "source": [
        "UL=310\n",
        "LL=290\n",
        "for b in range(1000):\n",
        "  a=r.randint(2,len(ProductList))\n",
        "  X=r.sample(list(ProductList.keys()),a)\n",
        "  add=sum([ProductList[b] for b in X])\n",
        "  if add>LL and add< UL:\n",
        "    print(X)"
      ],
      "metadata": {
        "colab": {
          "base_uri": "https://localhost:8080/"
        },
        "id": "QAidWhNb0scU",
        "outputId": "5083f4fe-a19a-4146-a9fe-fe13b92bd331"
      },
      "execution_count": 9,
      "outputs": [
        {
          "output_type": "stream",
          "name": "stdout",
          "text": [
            "['p6', 'p5', 'p11', 'p3', 'p12', 'p10', 'p1']\n",
            "['p11', 'p7', 'p5', 'p8', 'p12', 'p6']\n",
            "['p4', 'p2', 'p12', 'p13', 'p9', 'p5', 'p6']\n",
            "['p10', 'p12', 'p14', 'p4', 'p9', 'p6']\n",
            "['p10', 'p9', 'p12', 'p5', 'p11', 'p1']\n",
            "['p7', 'p4', 'p8', 'p10', 'p9', 'p11']\n",
            "['p1', 'p6', 'p14', 'p2', 'p9', 'p11', 'p5', 'p8']\n",
            "['p9', 'p1', 'p10', 'p13', 'p4', 'p14', 'p8']\n",
            "['p12', 'p9', 'p10', 'p14', 'p2', 'p7']\n",
            "['p3', 'p7', 'p4', 'p5', 'p8', 'p14', 'p6', 'p10']\n",
            "['p2', 'p1', 'p3', 'p6', 'p12', 'p4', 'p11', 'p7']\n",
            "['p14', 'p8', 'p3', 'p5', 'p2', 'p12', 'p13']\n",
            "['p1', 'p4', 'p12', 'p3', 'p6', 'p13', 'p11']\n",
            "['p9', 'p2', 'p14', 'p5', 'p13', 'p10', 'p4']\n",
            "['p9', 'p12', 'p8', 'p10', 'p7', 'p2']\n",
            "['p2', 'p13', 'p1', 'p4', 'p8', 'p6', 'p14', 'p10']\n",
            "['p7', 'p8', 'p4', 'p1', 'p14', 'p11', 'p6', 'p5']\n",
            "['p9', 'p7', 'p4', 'p12', 'p13', 'p3']\n",
            "['p7', 'p8', 'p10', 'p6', 'p3', 'p4', 'p12']\n",
            "['p4', 'p11', 'p3', 'p10', 'p6', 'p14', 'p8', 'p1']\n",
            "['p8', 'p12', 'p3', 'p6', 'p11', 'p13']\n",
            "['p7', 'p6', 'p11', 'p1', 'p3', 'p10', 'p4', 'p8']\n",
            "['p11', 'p4', 'p9', 'p8', 'p13', 'p14']\n",
            "['p5', 'p9', 'p12', 'p3', 'p14', 'p11', 'p1']\n",
            "['p6', 'p10', 'p11', 'p9', 'p1', 'p14', 'p4']\n",
            "['p11', 'p12', 'p3', 'p6', 'p2', 'p4', 'p13']\n",
            "['p1', 'p11', 'p2', 'p7', 'p6', 'p3', 'p10', 'p8']\n",
            "['p14', 'p6', 'p8', 'p5', 'p3', 'p11', 'p1', 'p10']\n",
            "['p5', 'p4', 'p7', 'p10', 'p2', 'p6', 'p1', 'p13']\n",
            "['p9', 'p2', 'p1', 'p3', 'p13', 'p7', 'p5', 'p14']\n",
            "['p13', 'p6', 'p4', 'p1', 'p5', 'p7', 'p3', 'p11']\n",
            "['p7', 'p4', 'p12', 'p3', 'p1', 'p2', 'p5', 'p6', 'p14']\n",
            "['p13', 'p12', 'p9', 'p14', 'p7']\n"
          ]
        }
      ]
    }
  ]
}