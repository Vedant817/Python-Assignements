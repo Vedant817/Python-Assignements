{
  "nbformat": 4,
  "nbformat_minor": 0,
  "metadata": {
    "colab": {
      "provenance": [],
      "authorship_tag": "ABX9TyM7EmvdaKpTFp06ZOZXtgmt",
      "include_colab_link": true
    },
    "kernelspec": {
      "name": "python3",
      "display_name": "Python 3"
    },
    "language_info": {
      "name": "python"
    }
  },
  "cells": [
    {
      "cell_type": "markdown",
      "metadata": {
        "id": "view-in-github",
        "colab_type": "text"
      },
      "source": [
        "<a href=\"https://colab.research.google.com/github/Vedant817/Python-Assignements/blob/main/Assignment_1.ipynb\" target=\"_parent\"><img src=\"https://colab.research.google.com/assets/colab-badge.svg\" alt=\"Open In Colab\"/></a>"
      ]
    },
    {
      "cell_type": "markdown",
      "source": [
        "Question *1*"
      ],
      "metadata": {
        "id": "Cr7DUU7KIjcR"
      }
    },
    {
      "cell_type": "markdown",
      "source": [
        "(i)"
      ],
      "metadata": {
        "id": "mZH-mpDMIwLU"
      }
    },
    {
      "cell_type": "code",
      "source": [
        "# import math as m\n",
        "L=[11,12,13,14]\n",
        "L.append(50)\n",
        "L.append(60)\n",
        "print(L)"
      ],
      "metadata": {
        "colab": {
          "base_uri": "https://localhost:8080/"
        },
        "id": "Uj39IoW_In0s",
        "outputId": "ea27c3c0-fbd7-40a6-e58e-c045a0075024"
      },
      "execution_count": 14,
      "outputs": [
        {
          "output_type": "stream",
          "name": "stdout",
          "text": [
            "[11, 12, 13, 14, 50, 60]\n"
          ]
        }
      ]
    },
    {
      "cell_type": "markdown",
      "source": [
        "(ii)"
      ],
      "metadata": {
        "id": "mw8JZnQ4JQog"
      }
    },
    {
      "cell_type": "code",
      "source": [
        "L.remove(13)\n",
        "L.pop(0)\n",
        "print(L)\n",
        "# print(type(L))"
      ],
      "metadata": {
        "colab": {
          "base_uri": "https://localhost:8080/"
        },
        "id": "pd41Zi68JSA8",
        "outputId": "7cbe7623-751b-48fa-cdab-407335155b47"
      },
      "execution_count": 15,
      "outputs": [
        {
          "output_type": "stream",
          "name": "stdout",
          "text": [
            "[12, 14, 50, 60]\n"
          ]
        }
      ]
    },
    {
      "cell_type": "markdown",
      "source": [
        "(iii)"
      ],
      "metadata": {
        "id": "cMD60GUPLc1r"
      }
    },
    {
      "cell_type": "code",
      "source": [
        "L.sort()\n",
        "print(L)"
      ],
      "metadata": {
        "colab": {
          "base_uri": "https://localhost:8080/"
        },
        "id": "Zyhx9gUmJbNz",
        "outputId": "bfc0c0b2-112b-4503-8ebd-ab6065f1c19e"
      },
      "execution_count": 16,
      "outputs": [
        {
          "output_type": "stream",
          "name": "stdout",
          "text": [
            "[12, 14, 50, 60]\n"
          ]
        }
      ]
    },
    {
      "cell_type": "markdown",
      "source": [
        "(iv)"
      ],
      "metadata": {
        "id": "cO7bjwhoLgEi"
      }
    },
    {
      "cell_type": "code",
      "source": [
        "L.sort(reverse=True)\n",
        "print(L)"
      ],
      "metadata": {
        "colab": {
          "base_uri": "https://localhost:8080/"
        },
        "id": "Wu7fu6KNJhWR",
        "outputId": "cef18968-2279-4817-946d-effc8e0cb944"
      },
      "execution_count": 17,
      "outputs": [
        {
          "output_type": "stream",
          "name": "stdout",
          "text": [
            "[60, 50, 14, 12]\n"
          ]
        }
      ]
    },
    {
      "cell_type": "markdown",
      "source": [
        "(v)"
      ],
      "metadata": {
        "id": "KCtI5xVFLpmp"
      }
    },
    {
      "cell_type": "code",
      "source": [
        "i=0\n",
        "for item in L:\n",
        "  if(i<(len(L)-1)):\n",
        "    if (L[i]==13):\n",
        "      print(f\"The index of 13 is {i}\")\n",
        "      exit()\n",
        "    else:\n",
        "      i+=1\n",
        "  if(i==(len(L)-1)):\n",
        "    print(\"13 doesn't exits\")\n",
        "    exit()"
      ],
      "metadata": {
        "colab": {
          "base_uri": "https://localhost:8080/"
        },
        "id": "D-LjY7MALqw_",
        "outputId": "f8e49c99-3413-4eb3-fc16-3aa714551e47"
      },
      "execution_count": 18,
      "outputs": [
        {
          "output_type": "stream",
          "name": "stdout",
          "text": [
            "13 doesn't exits\n",
            "13 doesn't exits\n"
          ]
        }
      ]
    },
    {
      "cell_type": "markdown",
      "source": [
        "(vi)"
      ],
      "metadata": {
        "id": "uY6f_r9NTTX6"
      }
    },
    {
      "cell_type": "code",
      "source": [
        "i=0\n",
        "for items in L:\n",
        "  i+=1\n",
        "print(f\"Number of elements is {i}\")"
      ],
      "metadata": {
        "colab": {
          "base_uri": "https://localhost:8080/"
        },
        "id": "DLNgciaDS15h",
        "outputId": "6cd97a0c-c8a7-4d81-84d2-2310b5281d49"
      },
      "execution_count": 19,
      "outputs": [
        {
          "output_type": "stream",
          "name": "stdout",
          "text": [
            "Number of elements is 4\n"
          ]
        }
      ]
    },
    {
      "cell_type": "markdown",
      "source": [
        "(vii)"
      ],
      "metadata": {
        "id": "p5wiWDx-TrgQ"
      }
    },
    {
      "cell_type": "code",
      "source": [
        "add=0\n",
        "i=0\n",
        "for items in L:\n",
        "  add+=L[i]\n",
        "  i+=1\n",
        "print(f\"The sum of all the elements is {add}\")"
      ],
      "metadata": {
        "colab": {
          "base_uri": "https://localhost:8080/"
        },
        "id": "FI7IZulGTs1u",
        "outputId": "00041ba5-3852-4080-a500-a9d2f6ec3b2a"
      },
      "execution_count": 20,
      "outputs": [
        {
          "output_type": "stream",
          "name": "stdout",
          "text": [
            "The sum of all the elements is 136\n"
          ]
        }
      ]
    },
    {
      "cell_type": "markdown",
      "source": [
        "(viii)"
      ],
      "metadata": {
        "id": "i5MdX_VUUZ1x"
      }
    },
    {
      "cell_type": "code",
      "source": [
        "sum_odd=0\n",
        "for items in L:\n",
        "  if items%2!=0:\n",
        "    sum_odd+=L[items]\n",
        "print(sum_odd)"
      ],
      "metadata": {
        "colab": {
          "base_uri": "https://localhost:8080/"
        },
        "id": "qFD02H4zUSnZ",
        "outputId": "9d125258-e1e4-47b1-bb6f-5251b2657c71"
      },
      "execution_count": 21,
      "outputs": [
        {
          "output_type": "stream",
          "name": "stdout",
          "text": [
            "0\n"
          ]
        }
      ]
    },
    {
      "cell_type": "markdown",
      "source": [
        "(ix)"
      ],
      "metadata": {
        "id": "pjghczBsVLaB"
      }
    },
    {
      "cell_type": "code",
      "source": [
        "sum_even=0\n",
        "for items in L:\n",
        "  if items%2==0:\n",
        "    sum_even+=items\n",
        "print(sum_even)"
      ],
      "metadata": {
        "colab": {
          "base_uri": "https://localhost:8080/"
        },
        "id": "ZV-9zL05VP-3",
        "outputId": "18b34d6d-18d8-4836-e015-ef53bdc6178c"
      },
      "execution_count": 22,
      "outputs": [
        {
          "output_type": "stream",
          "name": "stdout",
          "text": [
            "136\n"
          ]
        }
      ]
    },
    {
      "cell_type": "markdown",
      "source": [
        "(x)"
      ],
      "metadata": {
        "id": "sknOZXVJVkD7"
      }
    },
    {
      "cell_type": "code",
      "source": [
        "sum_prime=0\n",
        "for items in L:\n",
        "  x=0\n",
        "  for i in range(2,item//2):\n",
        "    if(items%i==0):\n",
        "      x+=1\n",
        "  if(x==0):\n",
        "    sum_prime+=items\n",
        "print(f\"The sum of prime number is {sum_prime}\")"
      ],
      "metadata": {
        "colab": {
          "base_uri": "https://localhost:8080/"
        },
        "id": "jJovdgzjVleX",
        "outputId": "55839315-4914-4bb4-ba8b-904ed40c654d"
      },
      "execution_count": 23,
      "outputs": [
        {
          "output_type": "stream",
          "name": "stdout",
          "text": [
            "The sum of prime number is 0\n"
          ]
        }
      ]
    },
    {
      "cell_type": "markdown",
      "source": [
        "(xi)"
      ],
      "metadata": {
        "id": "7DwnLuTuXTJ3"
      }
    },
    {
      "cell_type": "code",
      "source": [
        "L.clear()\n",
        "print(L)"
      ],
      "metadata": {
        "colab": {
          "base_uri": "https://localhost:8080/"
        },
        "id": "QmOpMMpiXUx_",
        "outputId": "29e6d421-7324-4811-dafc-a0f9872f42c8"
      },
      "execution_count": 24,
      "outputs": [
        {
          "output_type": "stream",
          "name": "stdout",
          "text": [
            "[]\n"
          ]
        }
      ]
    },
    {
      "cell_type": "markdown",
      "source": [
        "(xii)"
      ],
      "metadata": {
        "id": "zWVvlvV_XcqK"
      }
    },
    {
      "cell_type": "code",
      "source": [
        "del L"
      ],
      "metadata": {
        "id": "U5s-f1jVXeys"
      },
      "execution_count": 25,
      "outputs": []
    },
    {
      "cell_type": "markdown",
      "source": [
        "Question 2"
      ],
      "metadata": {
        "id": "r7byGR-gX4eB"
      }
    },
    {
      "cell_type": "markdown",
      "source": [
        "(i)"
      ],
      "metadata": {
        "id": "xfQnxWGeX6n-"
      }
    },
    {
      "cell_type": "code",
      "source": [
        "D= {1:5.6, 2:7.8, 3:6.6, 4:8.7, 5:7.7}\n",
        "D[8]=8.8\n",
        "print(D)"
      ],
      "metadata": {
        "colab": {
          "base_uri": "https://localhost:8080/"
        },
        "id": "3___G-_PX6H8",
        "outputId": "08405a86-f88e-42dd-fb7d-1b3f415ced4f"
      },
      "execution_count": 26,
      "outputs": [
        {
          "output_type": "stream",
          "name": "stdout",
          "text": [
            "{1: 5.6, 2: 7.8, 3: 6.6, 4: 8.7, 5: 7.7, 8: 8.8}\n"
          ]
        }
      ]
    },
    {
      "cell_type": "markdown",
      "source": [
        "(ii)"
      ],
      "metadata": {
        "id": "6p7zbGhxYtGS"
      }
    },
    {
      "cell_type": "code",
      "source": [
        "del D[2]\n",
        "print(D)"
      ],
      "metadata": {
        "colab": {
          "base_uri": "https://localhost:8080/"
        },
        "id": "5T9vd9CSYuM4",
        "outputId": "09dd6444-2f0a-4712-baa8-1164d96c157a"
      },
      "execution_count": 27,
      "outputs": [
        {
          "output_type": "stream",
          "name": "stdout",
          "text": [
            "{1: 5.6, 3: 6.6, 4: 8.7, 5: 7.7, 8: 8.8}\n"
          ]
        }
      ]
    },
    {
      "cell_type": "markdown",
      "source": [
        "(iii)"
      ],
      "metadata": {
        "id": "Udov-4fRZMmn"
      }
    },
    {
      "cell_type": "code",
      "source": [
        "for item in D:\n",
        "  if D.keys()==6:\n",
        "    print(\"Exists\")"
      ],
      "metadata": {
        "id": "BLceNAo5ZOVi"
      },
      "execution_count": 28,
      "outputs": []
    },
    {
      "cell_type": "markdown",
      "source": [
        "(iv)"
      ],
      "metadata": {
        "id": "X0M94Zd7aAtX"
      }
    },
    {
      "cell_type": "code",
      "source": [
        "i=0\n",
        "for items in D:\n",
        "  i+=1\n",
        "print(f\"The Number of Elements is {i}\")"
      ],
      "metadata": {
        "colab": {
          "base_uri": "https://localhost:8080/"
        },
        "id": "ueDbYDyJaBuI",
        "outputId": "416b00d3-1aeb-4f90-967a-0bc70f09f82d"
      },
      "execution_count": 29,
      "outputs": [
        {
          "output_type": "stream",
          "name": "stdout",
          "text": [
            "The Number of Elements is 5\n"
          ]
        }
      ]
    },
    {
      "cell_type": "markdown",
      "source": [
        "(v)"
      ],
      "metadata": {
        "id": "AxA9Z2gnaTEM"
      }
    },
    {
      "cell_type": "code",
      "source": [
        "add=0\n",
        "for items in D:\n",
        "  add+=D[items]\n",
        "print(f\"The sum of elements is {add}\")"
      ],
      "metadata": {
        "colab": {
          "base_uri": "https://localhost:8080/"
        },
        "id": "u6oOSyrvaUFa",
        "outputId": "a1fa66f3-f8e2-4c97-eccc-45af1bd6ac9f"
      },
      "execution_count": 30,
      "outputs": [
        {
          "output_type": "stream",
          "name": "stdout",
          "text": [
            "The sum of elements is 37.4\n"
          ]
        }
      ]
    },
    {
      "cell_type": "markdown",
      "source": [
        "(vi)"
      ],
      "metadata": {
        "id": "5stpI7Rsa6A8"
      }
    },
    {
      "cell_type": "code",
      "source": [
        "D[3]=7.1\n",
        "print(D)"
      ],
      "metadata": {
        "colab": {
          "base_uri": "https://localhost:8080/"
        },
        "id": "LyWf5RXga7N2",
        "outputId": "682c7c88-57f3-4708-df74-d3563d565393"
      },
      "execution_count": 31,
      "outputs": [
        {
          "output_type": "stream",
          "name": "stdout",
          "text": [
            "{1: 5.6, 3: 7.1, 4: 8.7, 5: 7.7, 8: 8.8}\n"
          ]
        }
      ]
    },
    {
      "cell_type": "markdown",
      "source": [
        "(vii)"
      ],
      "metadata": {
        "id": "oeDDZ3xUbWdI"
      }
    },
    {
      "cell_type": "code",
      "source": [
        "D.clear()"
      ],
      "metadata": {
        "id": "36_1XteubYBo"
      },
      "execution_count": 32,
      "outputs": []
    },
    {
      "cell_type": "markdown",
      "source": [
        "Question 3"
      ],
      "metadata": {
        "id": "y3NRgfMUb-TZ"
      }
    },
    {
      "cell_type": "markdown",
      "source": [
        "(i)"
      ],
      "metadata": {
        "id": "EiwQ-16EcZhV"
      }
    },
    {
      "cell_type": "code",
      "source": [
        "S1={10, 20, 30, 40, 50, 60}\n",
        "S2={40, 50, 60, 70, 80, 90}\n",
        "S1.add(55)\n",
        "S1.add(66)\n",
        "print(S1)"
      ],
      "metadata": {
        "colab": {
          "base_uri": "https://localhost:8080/"
        },
        "id": "jLaSUOhhb5rf",
        "outputId": "ea580b32-3f98-4637-be12-7d4951aac31c"
      },
      "execution_count": 33,
      "outputs": [
        {
          "output_type": "stream",
          "name": "stdout",
          "text": [
            "{50, 66, 20, 55, 40, 10, 60, 30}\n"
          ]
        }
      ]
    },
    {
      "cell_type": "markdown",
      "source": [
        "(ii)"
      ],
      "metadata": {
        "id": "vDruXR2Bca5f"
      }
    },
    {
      "cell_type": "code",
      "source": [
        "S1.remove(10)\n",
        "S1.remove(30)\n",
        "print(S1)"
      ],
      "metadata": {
        "colab": {
          "base_uri": "https://localhost:8080/"
        },
        "id": "EPJkhs84cLKW",
        "outputId": "300b791c-127b-40a0-cb65-c664a80cd204"
      },
      "execution_count": 34,
      "outputs": [
        {
          "output_type": "stream",
          "name": "stdout",
          "text": [
            "{50, 66, 20, 55, 40, 60}\n"
          ]
        }
      ]
    },
    {
      "cell_type": "markdown",
      "source": [
        "(iii)"
      ],
      "metadata": {
        "id": "-8buafB8cnea"
      }
    },
    {
      "cell_type": "code",
      "source": [
        "for items in S1:\n",
        "  if items==40:\n",
        "    print(\"Exist\")"
      ],
      "metadata": {
        "colab": {
          "base_uri": "https://localhost:8080/"
        },
        "id": "_lG1t9q1ch_u",
        "outputId": "0e2b7671-f097-4dbf-8018-f158610cd75c"
      },
      "execution_count": 35,
      "outputs": [
        {
          "output_type": "stream",
          "name": "stdout",
          "text": [
            "Exist\n"
          ]
        }
      ]
    },
    {
      "cell_type": "markdown",
      "source": [
        "(iv)"
      ],
      "metadata": {
        "id": "a48cV-p5dDlx"
      }
    },
    {
      "cell_type": "code",
      "source": [
        "print(S1.union(S2))"
      ],
      "metadata": {
        "colab": {
          "base_uri": "https://localhost:8080/"
        },
        "id": "74OxYKfRdA8t",
        "outputId": "94d86cfa-e18c-4fde-cf7f-dad11d0e6573"
      },
      "execution_count": 36,
      "outputs": [
        {
          "output_type": "stream",
          "name": "stdout",
          "text": [
            "{66, 70, 40, 80, 50, 20, 55, 90, 60}\n"
          ]
        }
      ]
    },
    {
      "cell_type": "markdown",
      "source": [
        "(v)"
      ],
      "metadata": {
        "id": "mli_TQFodWCL"
      }
    },
    {
      "cell_type": "code",
      "source": [
        "S3=S1.intersection(S2)\n",
        "print(S3)"
      ],
      "metadata": {
        "colab": {
          "base_uri": "https://localhost:8080/"
        },
        "id": "Zmte3oHrdXIe",
        "outputId": "86b22855-d7d6-429d-e977-80c67183c487"
      },
      "execution_count": 37,
      "outputs": [
        {
          "output_type": "stream",
          "name": "stdout",
          "text": [
            "{40, 50, 60}\n"
          ]
        }
      ]
    },
    {
      "cell_type": "markdown",
      "source": [
        "(vi)"
      ],
      "metadata": {
        "id": "ELOwURKoeZzx"
      }
    },
    {
      "cell_type": "code",
      "source": [
        "S4=S1-S2\n",
        "print(S4)"
      ],
      "metadata": {
        "colab": {
          "base_uri": "https://localhost:8080/"
        },
        "id": "pIiV2hnueayH",
        "outputId": "a4c21d8b-c653-4e0e-afb3-79209c6f7c84"
      },
      "execution_count": 38,
      "outputs": [
        {
          "output_type": "stream",
          "name": "stdout",
          "text": [
            "{66, 20, 55}\n"
          ]
        }
      ]
    },
    {
      "cell_type": "markdown",
      "source": [
        "Question 4"
      ],
      "metadata": {
        "id": "ALkuhYq4gD_u"
      }
    },
    {
      "cell_type": "markdown",
      "source": [
        "(i)"
      ],
      "metadata": {
        "id": "KWNB_R9fgGA6"
      }
    },
    {
      "cell_type": "code",
      "source": [
        "import string as s\n",
        "import random as r\n",
        "i=1\n",
        "while i<=100:\n",
        "  names=r.sample(s.ascii_letters, 6)\n",
        "  names=\"\".join(names)\n",
        "  print(names)\n",
        "  i+=1"
      ],
      "metadata": {
        "colab": {
          "base_uri": "https://localhost:8080/"
        },
        "id": "AIT0dDM7gHxv",
        "outputId": "956b1153-de13-457d-90ae-4972d5369243"
      },
      "execution_count": 39,
      "outputs": [
        {
          "output_type": "stream",
          "name": "stdout",
          "text": [
            "SHlcpW\n",
            "ASstKE\n",
            "bnwzED\n",
            "mVepWC\n",
            "OtlBQn\n",
            "xobRPf\n",
            "XSsvYc\n",
            "fxOyDR\n",
            "RfydFM\n",
            "xqOehK\n",
            "ERJDvP\n",
            "eQVKmd\n",
            "sMmXYF\n",
            "nYATNv\n",
            "uYInrO\n",
            "VBCqsb\n",
            "soyZbK\n",
            "SgRBux\n",
            "WSyabv\n",
            "ngUiel\n",
            "MRlJEr\n",
            "tQAaWL\n",
            "CofrBK\n",
            "UnAzlY\n",
            "megPWR\n",
            "IZbagD\n",
            "WNpleC\n",
            "pXjixC\n",
            "viYLud\n",
            "yonQhV\n",
            "rmDRIJ\n",
            "USiAoV\n",
            "MmQenf\n",
            "GpCAtu\n",
            "gvXmsx\n",
            "XyIpdf\n",
            "xDFktJ\n",
            "iwYIGa\n",
            "UPuAWj\n",
            "tdzeqA\n",
            "IyUzDE\n",
            "VmaKoQ\n",
            "ZklvHT\n",
            "BFCQVy\n",
            "UeqEub\n",
            "uUPvAZ\n",
            "edGogy\n",
            "AnhBaR\n",
            "vsVuDJ\n",
            "ASdgYt\n",
            "KwngIH\n",
            "CcbAXq\n",
            "DjxlFJ\n",
            "BVqIUl\n",
            "vsEngo\n",
            "gOzNln\n",
            "HpLyif\n",
            "dPNioj\n",
            "tIyaPl\n",
            "DisBhF\n",
            "MXEkfS\n",
            "acEiNG\n",
            "JLPyKt\n",
            "flIWmQ\n",
            "LJfIwT\n",
            "giqdHO\n",
            "ycaMhi\n",
            "RQOYtL\n",
            "gQXivF\n",
            "TXzWFG\n",
            "YugLdn\n",
            "LpAdcw\n",
            "EUaPGN\n",
            "mNZxVy\n",
            "ZkIOau\n",
            "KIiaBg\n",
            "mSkCcB\n",
            "qWXRhT\n",
            "msDkwM\n",
            "kSQFOY\n",
            "ecrLip\n",
            "GVcXAF\n",
            "VaeqyK\n",
            "QUmwAC\n",
            "NEFOAY\n",
            "QHNWJM\n",
            "bzUNrL\n",
            "eFLlUQ\n",
            "gByNkI\n",
            "eKtWjA\n",
            "FxCUad\n",
            "kVfbFa\n",
            "TNgVFl\n",
            "jBptMy\n",
            "KDlztJ\n",
            "tkLFGM\n",
            "EgCudB\n",
            "lpMASg\n",
            "aoVAqr\n",
            "BLSkDt\n"
          ]
        }
      ]
    },
    {
      "cell_type": "markdown",
      "source": [
        "(ii)"
      ],
      "metadata": {
        "id": "pIB8LUnhQc-J"
      }
    },
    {
      "cell_type": "code",
      "source": [
        "for i in range(600,800):\n",
        "  x=0\n",
        "  for a in range(2,(i//2)+1):\n",
        "    if i%a==0:\n",
        "      x+=1\n",
        "  if x==0:\n",
        "    print(f\"{i} is a prime number\")"
      ],
      "metadata": {
        "colab": {
          "base_uri": "https://localhost:8080/"
        },
        "id": "89sRoKbvQh9i",
        "outputId": "a27886eb-00d5-424f-8168-2b0bd1b4bb43"
      },
      "execution_count": 1,
      "outputs": [
        {
          "output_type": "stream",
          "name": "stdout",
          "text": [
            "601 is a prime number\n",
            "607 is a prime number\n",
            "613 is a prime number\n",
            "617 is a prime number\n",
            "619 is a prime number\n",
            "631 is a prime number\n",
            "641 is a prime number\n",
            "643 is a prime number\n",
            "647 is a prime number\n",
            "653 is a prime number\n",
            "659 is a prime number\n",
            "661 is a prime number\n",
            "673 is a prime number\n",
            "677 is a prime number\n",
            "683 is a prime number\n",
            "691 is a prime number\n",
            "701 is a prime number\n",
            "709 is a prime number\n",
            "719 is a prime number\n",
            "727 is a prime number\n",
            "733 is a prime number\n",
            "739 is a prime number\n",
            "743 is a prime number\n",
            "751 is a prime number\n",
            "757 is a prime number\n",
            "761 is a prime number\n",
            "769 is a prime number\n",
            "773 is a prime number\n",
            "787 is a prime number\n",
            "797 is a prime number\n"
          ]
        }
      ]
    },
    {
      "cell_type": "markdown",
      "source": [
        "(iii)"
      ],
      "metadata": {
        "id": "4YGonYs8RXyk"
      }
    },
    {
      "cell_type": "code",
      "source": [
        "for items in range(100,1000):\n",
        "  if items%7==0 and items%9==0:\n",
        "    print(items)"
      ],
      "metadata": {
        "colab": {
          "base_uri": "https://localhost:8080/"
        },
        "id": "-jkznqjwRTh8",
        "outputId": "9656ce0f-d514-42c5-f056-2bf18b73e7e7"
      },
      "execution_count": 2,
      "outputs": [
        {
          "output_type": "stream",
          "name": "stdout",
          "text": [
            "126\n",
            "189\n",
            "252\n",
            "315\n",
            "378\n",
            "441\n",
            "504\n",
            "567\n",
            "630\n",
            "693\n",
            "756\n",
            "819\n",
            "882\n",
            "945\n"
          ]
        }
      ]
    },
    {
      "cell_type": "markdown",
      "source": [
        "Question 5 "
      ],
      "metadata": {
        "id": "Llo5Rr1Femh8"
      }
    },
    {
      "cell_type": "markdown",
      "source": [
        "(i)"
      ],
      "metadata": {
        "id": "phfo1oHjepfG"
      }
    },
    {
      "cell_type": "code",
      "source": [
        "import random as r\n",
        "L1=[]\n",
        "L2=[]\n",
        "for i in range(10):\n",
        "    L1.append(r.randint(10,30))\n",
        "    L2.append(r.randint(10,30))\n",
        "print(L1)\n",
        "print(L2)"
      ],
      "metadata": {
        "colab": {
          "base_uri": "https://localhost:8080/"
        },
        "id": "-OBZUtNYeo-r",
        "outputId": "11a95b10-068d-4943-e34c-1f36072f727a"
      },
      "execution_count": 10,
      "outputs": [
        {
          "output_type": "stream",
          "name": "stdout",
          "text": [
            "[27, 27, 14, 24, 23, 17, 23, 28, 15, 15]\n",
            "[26, 21, 11, 10, 30, 12, 16, 19, 13, 13]\n"
          ]
        }
      ]
    },
    {
      "cell_type": "markdown",
      "source": [
        "(ii)"
      ],
      "metadata": {
        "id": "C0mn0rkGSF3S"
      }
    },
    {
      "cell_type": "code",
      "source": [
        "for items in L1:\n",
        "  x=0\n",
        "  for i in L2:\n",
        "    if items==i:\n",
        "     x+=1\n",
        "  if x==0:\n",
        "    print(items, end=' ') \n",
        "for items in L2:\n",
        "  x=0\n",
        "  for i in L1:\n",
        "    if items==i:\n",
        "      x+=1\n",
        "  if x==0:\n",
        "    print(items, end=' ')"
      ],
      "metadata": {
        "colab": {
          "base_uri": "https://localhost:8080/"
        },
        "id": "y22OrFZeSD4E",
        "outputId": "f712c469-5184-4530-cf80-3358388a1388"
      },
      "execution_count": 11,
      "outputs": [
        {
          "output_type": "stream",
          "name": "stdout",
          "text": [
            "27 27 14 24 23 17 23 28 15 15 26 21 11 10 30 12 16 19 13 13 "
          ]
        }
      ]
    },
    {
      "cell_type": "markdown",
      "source": [
        "(iii)"
      ],
      "metadata": {
        "id": "adGLxh9sUGE8"
      }
    },
    {
      "cell_type": "code",
      "source": [
        "print(min(L1))\n",
        "print(min(L2))"
      ],
      "metadata": {
        "colab": {
          "base_uri": "https://localhost:8080/"
        },
        "id": "PfHoxTZ8UIOe",
        "outputId": "5ccf4576-7f8d-448d-c31f-a15f1b8a1705"
      },
      "execution_count": 12,
      "outputs": [
        {
          "output_type": "stream",
          "name": "stdout",
          "text": [
            "14\n",
            "10\n"
          ]
        }
      ]
    },
    {
      "cell_type": "markdown",
      "source": [
        "(iv)"
      ],
      "metadata": {
        "id": "EDxZMZ36TsyL"
      }
    },
    {
      "cell_type": "code",
      "source": [
        "print(max(L1))\n",
        "print(max(L2))"
      ],
      "metadata": {
        "colab": {
          "base_uri": "https://localhost:8080/"
        },
        "id": "cp6lffE-Ttx8",
        "outputId": "a6f72d00-dce0-4e67-9ea3-913f74fb2aea"
      },
      "execution_count": 13,
      "outputs": [
        {
          "output_type": "stream",
          "name": "stdout",
          "text": [
            "28\n",
            "30\n"
          ]
        }
      ]
    },
    {
      "cell_type": "markdown",
      "source": [
        "(v)"
      ],
      "metadata": {
        "id": "Eh55dDsAUVdY"
      }
    },
    {
      "cell_type": "code",
      "source": [
        "S3=[]\n",
        "for items in L1:\n",
        "  S3.append(items)\n",
        "for items in L2:\n",
        "  S3.append(items)\n",
        "print(S3)"
      ],
      "metadata": {
        "colab": {
          "base_uri": "https://localhost:8080/"
        },
        "id": "n5GD5RZWUWKK",
        "outputId": "47f238e4-d43b-46d4-a6ea-4c20f3db5c7f"
      },
      "execution_count": 15,
      "outputs": [
        {
          "output_type": "stream",
          "name": "stdout",
          "text": [
            "[27, 27, 14, 24, 23, 17, 23, 28, 15, 15, 26, 21, 11, 10, 30, 12, 16, 19, 13, 13]\n"
          ]
        }
      ]
    },
    {
      "cell_type": "markdown",
      "source": [
        "Question 6"
      ],
      "metadata": {
        "id": "H6HRisLPVBPn"
      }
    },
    {
      "cell_type": "markdown",
      "source": [
        "(i)"
      ],
      "metadata": {
        "id": "YtB3JzcnVDQM"
      }
    },
    {
      "cell_type": "code",
      "source": [
        "import random as r\n",
        "i=0\n",
        "L=[]\n",
        "while(i<100):\n",
        "  L.append(r.randint(100,901))\n",
        "  i+=1\n",
        "print(L)"
      ],
      "metadata": {
        "colab": {
          "base_uri": "https://localhost:8080/"
        },
        "id": "95DnXAA5U-3_",
        "outputId": "52d15739-dd8a-4ac8-befb-9a7fcabb905f"
      },
      "execution_count": 19,
      "outputs": [
        {
          "output_type": "stream",
          "name": "stdout",
          "text": [
            "[614, 447, 158, 174, 190, 217, 285, 160, 372, 100, 131, 644, 139, 123, 255, 121, 719, 829, 200, 325, 390, 811, 421, 256, 492, 268, 373, 858, 117, 241, 381, 578, 401, 699, 880, 430, 556, 266, 808, 123, 314, 512, 767, 635, 558, 501, 872, 331, 495, 378, 298, 380, 547, 637, 787, 648, 678, 517, 825, 367, 889, 737, 112, 346, 265, 753, 336, 547, 340, 458, 812, 634, 181, 136, 800, 527, 206, 593, 582, 265, 558, 630, 577, 477, 377, 131, 347, 322, 385, 470, 638, 705, 726, 817, 535, 581, 799, 179, 520, 630]\n"
          ]
        }
      ]
    },
    {
      "cell_type": "code",
      "source": [
        "for items in L:\n",
        "  if items%2!=0:\n",
        "    print(items)"
      ],
      "metadata": {
        "colab": {
          "base_uri": "https://localhost:8080/"
        },
        "id": "XPEevxdBVx_b",
        "outputId": "8ac5e760-63e8-4202-a278-03162f42d7d9"
      },
      "execution_count": 20,
      "outputs": [
        {
          "output_type": "stream",
          "name": "stdout",
          "text": [
            "447\n",
            "217\n",
            "285\n",
            "131\n",
            "139\n",
            "123\n",
            "255\n",
            "121\n",
            "719\n",
            "829\n",
            "325\n",
            "811\n",
            "421\n",
            "373\n",
            "117\n",
            "241\n",
            "381\n",
            "401\n",
            "699\n",
            "123\n",
            "767\n",
            "635\n",
            "501\n",
            "331\n",
            "495\n",
            "547\n",
            "637\n",
            "787\n",
            "517\n",
            "825\n",
            "367\n",
            "889\n",
            "737\n",
            "265\n",
            "753\n",
            "547\n",
            "181\n",
            "527\n",
            "593\n",
            "265\n",
            "577\n",
            "477\n",
            "377\n",
            "131\n",
            "347\n",
            "385\n",
            "705\n",
            "817\n",
            "535\n",
            "581\n",
            "799\n",
            "179\n"
          ]
        }
      ]
    },
    {
      "cell_type": "markdown",
      "source": [
        "(ii)"
      ],
      "metadata": {
        "id": "9J7ORayqWAI0"
      }
    },
    {
      "cell_type": "code",
      "source": [
        "for items in L:\n",
        "  if items%2==0:\n",
        "    print(items)"
      ],
      "metadata": {
        "colab": {
          "base_uri": "https://localhost:8080/"
        },
        "id": "btCfDgp-V-ai",
        "outputId": "1758d03c-0566-4601-eafe-5afeeaf841e4"
      },
      "execution_count": 21,
      "outputs": [
        {
          "output_type": "stream",
          "name": "stdout",
          "text": [
            "614\n",
            "158\n",
            "174\n",
            "190\n",
            "160\n",
            "372\n",
            "100\n",
            "644\n",
            "200\n",
            "390\n",
            "256\n",
            "492\n",
            "268\n",
            "858\n",
            "578\n",
            "880\n",
            "430\n",
            "556\n",
            "266\n",
            "808\n",
            "314\n",
            "512\n",
            "558\n",
            "872\n",
            "378\n",
            "298\n",
            "380\n",
            "648\n",
            "678\n",
            "112\n",
            "346\n",
            "336\n",
            "340\n",
            "458\n",
            "812\n",
            "634\n",
            "136\n",
            "800\n",
            "206\n",
            "582\n",
            "558\n",
            "630\n",
            "322\n",
            "470\n",
            "638\n",
            "726\n",
            "520\n",
            "630\n"
          ]
        }
      ]
    },
    {
      "cell_type": "markdown",
      "source": [
        "(iii)"
      ],
      "metadata": {
        "id": "Xwi1oQEIWOAK"
      }
    },
    {
      "cell_type": "code",
      "source": [
        "for items in L:\n",
        "  for a in range(2,(items//2)+1):\n",
        "    if items%a==0:\n",
        "      x+=1\n",
        "  if x==0:\n",
        "    print(f\"{items} is a prime number\")"
      ],
      "metadata": {
        "id": "ICmNstCkWPcy"
      },
      "execution_count": 24,
      "outputs": []
    },
    {
      "cell_type": "markdown",
      "source": [
        "Question 7"
      ],
      "metadata": {
        "id": "cnkzNYLyWw-q"
      }
    },
    {
      "cell_type": "code",
      "source": [
        "D={1:\"One\",2:\"Two\",3:\"Three\",4:\"Four\", 5:\"Five\"}\n",
        "f=open('Sample.txt','w')\n",
        "for items in D:\n",
        "  f.write(f\"{items}->{D[items]}\\n\")\n",
        "f.close()"
      ],
      "metadata": {
        "id": "AC9-cG3UWymp"
      },
      "execution_count": 30,
      "outputs": []
    },
    {
      "cell_type": "markdown",
      "source": [
        "Question 8"
      ],
      "metadata": {
        "id": "eZerVAwOYIk4"
      }
    },
    {
      "cell_type": "code",
      "source": [
        "L={\"One\",\"Two\",\"Three\",\"Four\",\"Five\"}\n",
        "f=open('Sample2.txt','w')\n",
        "for items in L:\n",
        "  f.write(f\"{items}->{len(items)}\\n\")\n",
        "f.close()"
      ],
      "metadata": {
        "id": "mVOEsF4HYKux"
      },
      "execution_count": 33,
      "outputs": []
    },
    {
      "cell_type": "markdown",
      "source": [
        "Question 9"
      ],
      "metadata": {
        "id": "dSubiKhRZN6c"
      }
    },
    {
      "cell_type": "code",
      "source": [
        "import random as r\n",
        "import string as s\n",
        "i=0\n",
        "while i<100:\n",
        "  x=r.randint(10,15)\n",
        "  strings=r.sample(s.ascii_letters,x)\n",
        "  strings=\"\".join(strings)\n",
        "  print(strings)\n",
        "  i+=1"
      ],
      "metadata": {
        "colab": {
          "base_uri": "https://localhost:8080/"
        },
        "id": "nI2YhinzZQhr",
        "outputId": "0bdb8b05-b591-4f3b-c06a-445e043efce0"
      },
      "execution_count": 34,
      "outputs": [
        {
          "output_type": "stream",
          "name": "stdout",
          "text": [
            "sNRSdAtmZU\n",
            "aYGDxpbHBIh\n",
            "vPSuYodwOUEMrc\n",
            "tKRXHTmNSpZDIOu\n",
            "LYgdFuEpSjqDzno\n",
            "QtMrSTKfjxgOG\n",
            "fOenEFsHGw\n",
            "CjSRJniVLExO\n",
            "BfDsgVvRxq\n",
            "AZdvXVQWum\n",
            "XOUpjaucfoLReD\n",
            "GblhMFULweWoC\n",
            "FlBhrAGmVTqjPwX\n",
            "AlNoVmjJgedfSK\n",
            "mPnZNdzkJUqVE\n",
            "FdEUCIYOruptohP\n",
            "wJyKkxCMQdYlZ\n",
            "yWFrIlDPqak\n",
            "JlkgiVLYpKvmZX\n",
            "tpocRWQEsTNqI\n",
            "FPJrAcWUMhxZGNQ\n",
            "gLPvnuhxVSDmRZf\n",
            "tNFVwBPxSk\n",
            "PuHrLaRhXzwc\n",
            "ipPmZJgEuGktjFX\n",
            "lYCqxBSMopE\n",
            "OeVfRIhqWYaDTXx\n",
            "zbYAcSFWxZ\n",
            "NcYGzRKJPrZjl\n",
            "FkmncKibGlwY\n",
            "rFtGuEgSfRp\n",
            "itdUnIkfqJ\n",
            "GJiKfnAIwrQHvxt\n",
            "IOwVdBWiMF\n",
            "NSyoUwtLPZD\n",
            "DLvqhiguWpNRcK\n",
            "KNyxTVRjoBuHrv\n",
            "TzpwSeRruOn\n",
            "xQzVHoCJcIXdU\n",
            "FUqvXEplmfkD\n",
            "qOAcpvZTteo\n",
            "ewONHurojAYa\n",
            "AonhwWDOtilITKH\n",
            "JkSQudBErO\n",
            "RXkyCPQSav\n",
            "OIZkGypQuL\n",
            "CFDtZAGqWj\n",
            "eTfdBjQSVA\n",
            "fiObaHgclwq\n",
            "NmqFhCnGWzOpyc\n",
            "jTfhbGIviy\n",
            "MtQXUkyxuqV\n",
            "tlfyFICuvm\n",
            "kKsRELXlWv\n",
            "ZbGSguQdHD\n",
            "SxahEIQyvHZD\n",
            "hcZUwRYxBK\n",
            "GIWwxHSYcvUARVr\n",
            "fsrKGkBMRDXPlYQ\n",
            "aoTqpsPdutOGVUk\n",
            "HlmEeiXxoAD\n",
            "MlupQkvGNWrIK\n",
            "yEQrpuPDGfzR\n",
            "tjaTUSgdBc\n",
            "kRTIaveAMJfFj\n",
            "erBGFLDgcQkMI\n",
            "ktcYCrBieEgDvd\n",
            "MuewRdcIqC\n",
            "EgCQNdfexLBW\n",
            "CkcWdUPhmDtBHR\n",
            "MqEgpIbXLfwCY\n",
            "PTxLIeglyOU\n",
            "pzwoAltRhe\n",
            "ukgzbXnelOM\n",
            "MDbEeGfJwo\n",
            "QmHjizMlaEhqfY\n",
            "olfqQDGjIykmFa\n",
            "IQfKcBGlpsn\n",
            "xjcFigUHTqs\n",
            "AVIsoSDCzJ\n",
            "CsklPtufrv\n",
            "xrAjPTJouW\n",
            "IRvcMljTaN\n",
            "LhoiNkJfrIyHT\n",
            "SCQrlaBPVy\n",
            "JskOubrSAgHfmo\n",
            "vHGhaDuUtjOZMe\n",
            "RdNFALDUkZV\n",
            "GKRmjYqtLkvE\n",
            "VBXtuavsbkgPx\n",
            "rXwfmShobL\n",
            "WVdksiHxyX\n",
            "VCRUyLXeIKrs\n",
            "ZuTVcnHqDgIS\n",
            "CiMEFXJKoZUS\n",
            "oiaLrZBMVA\n",
            "iyeURZXbvYHQFD\n",
            "xYrVJmZfwpinoK\n",
            "GhSrZsvNOt\n",
            "LtuJRlohHfxpWG\n"
          ]
        }
      ]
    },
    {
      "cell_type": "markdown",
      "source": [
        "Question 10"
      ],
      "metadata": {
        "id": "SzRV2AjSaEMB"
      }
    },
    {
      "cell_type": "code",
      "source": [
        "for i in range(600,800):\n",
        "  x=0\n",
        "  for a in range(2,(i//2)+1):\n",
        "    if i%a==0:\n",
        "      x+=1\n",
        "  if x==0:\n",
        "    print(i)"
      ],
      "metadata": {
        "colab": {
          "base_uri": "https://localhost:8080/"
        },
        "id": "XQc_OM1iaGFL",
        "outputId": "05d22fe1-85b0-4cdc-d84b-d7a14e6e2936"
      },
      "execution_count": 35,
      "outputs": [
        {
          "output_type": "stream",
          "name": "stdout",
          "text": [
            "601\n",
            "607\n",
            "613\n",
            "617\n",
            "619\n",
            "631\n",
            "641\n",
            "643\n",
            "647\n",
            "653\n",
            "659\n",
            "661\n",
            "673\n",
            "677\n",
            "683\n",
            "691\n",
            "701\n",
            "709\n",
            "719\n",
            "727\n",
            "733\n",
            "739\n",
            "743\n",
            "751\n",
            "757\n",
            "761\n",
            "769\n",
            "773\n",
            "787\n",
            "797\n"
          ]
        }
      ]
    },
    {
      "cell_type": "markdown",
      "source": [
        "Question 11"
      ],
      "metadata": {
        "id": "HnPvnKtvZ_Ge"
      }
    },
    {
      "cell_type": "code",
      "source": [
        "import time\n",
        "begin=time.time()\n",
        "for i in range(600,800):\n",
        "  x=0\n",
        "  for a in range(2,(i//2)+1):\n",
        "    if i%a==0:\n",
        "      x+=1\n",
        "  if x==0:\n",
        "    print(i)\n",
        "time.sleep(1)\n",
        "end=time.time()\n",
        "print(f\"Time taken to execute is {end-begin}\")"
      ],
      "metadata": {
        "colab": {
          "base_uri": "https://localhost:8080/"
        },
        "id": "GFPtTlUsaBgr",
        "outputId": "042c1ebe-81d2-4e2e-e579-a53b87278be3"
      },
      "execution_count": 37,
      "outputs": [
        {
          "output_type": "stream",
          "name": "stdout",
          "text": [
            "601\n",
            "607\n",
            "613\n",
            "617\n",
            "619\n",
            "631\n",
            "641\n",
            "643\n",
            "647\n",
            "653\n",
            "659\n",
            "661\n",
            "673\n",
            "677\n",
            "683\n",
            "691\n",
            "701\n",
            "709\n",
            "719\n",
            "727\n",
            "733\n",
            "739\n",
            "743\n",
            "751\n",
            "757\n",
            "761\n",
            "769\n",
            "773\n",
            "787\n",
            "797\n",
            "Time taken to execute is 1.034306287765503\n"
          ]
        }
      ]
    },
    {
      "cell_type": "markdown",
      "source": [
        "Question 13"
      ],
      "metadata": {
        "id": "MUSYWLuQddcO"
      }
    },
    {
      "cell_type": "code",
      "source": [
        "import numpy as np\n",
        "import pandas as pd\n",
        "D={\"Subjects\":[\"English\",\"Mtahs\",\"Physics\",\"C++\",\"Python\"],\n",
        "   \"Marks\":[98,95,86,92,90]}\n",
        "df=pd.DataFrame(D)"
      ],
      "metadata": {
        "id": "mG27ShTQdfKo"
      },
      "execution_count": 40,
      "outputs": []
    },
    {
      "cell_type": "code",
      "source": [
        "df"
      ],
      "metadata": {
        "colab": {
          "base_uri": "https://localhost:8080/",
          "height": 206
        },
        "id": "hpmNL7YXeIXz",
        "outputId": "ca7cbe12-542e-4d8c-9977-5a22725153c7"
      },
      "execution_count": 41,
      "outputs": [
        {
          "output_type": "execute_result",
          "data": {
            "text/plain": [
              "  Subjects  Marks\n",
              "0  English     98\n",
              "1    Mtahs     95\n",
              "2  Physics     86\n",
              "3      C++     92\n",
              "4   Python     90"
            ],
            "text/html": [
              "\n",
              "  <div id=\"df-17370dc5-408a-4c2e-9956-f986ab2b4f59\">\n",
              "    <div class=\"colab-df-container\">\n",
              "      <div>\n",
              "<style scoped>\n",
              "    .dataframe tbody tr th:only-of-type {\n",
              "        vertical-align: middle;\n",
              "    }\n",
              "\n",
              "    .dataframe tbody tr th {\n",
              "        vertical-align: top;\n",
              "    }\n",
              "\n",
              "    .dataframe thead th {\n",
              "        text-align: right;\n",
              "    }\n",
              "</style>\n",
              "<table border=\"1\" class=\"dataframe\">\n",
              "  <thead>\n",
              "    <tr style=\"text-align: right;\">\n",
              "      <th></th>\n",
              "      <th>Subjects</th>\n",
              "      <th>Marks</th>\n",
              "    </tr>\n",
              "  </thead>\n",
              "  <tbody>\n",
              "    <tr>\n",
              "      <th>0</th>\n",
              "      <td>English</td>\n",
              "      <td>98</td>\n",
              "    </tr>\n",
              "    <tr>\n",
              "      <th>1</th>\n",
              "      <td>Mtahs</td>\n",
              "      <td>95</td>\n",
              "    </tr>\n",
              "    <tr>\n",
              "      <th>2</th>\n",
              "      <td>Physics</td>\n",
              "      <td>86</td>\n",
              "    </tr>\n",
              "    <tr>\n",
              "      <th>3</th>\n",
              "      <td>C++</td>\n",
              "      <td>92</td>\n",
              "    </tr>\n",
              "    <tr>\n",
              "      <th>4</th>\n",
              "      <td>Python</td>\n",
              "      <td>90</td>\n",
              "    </tr>\n",
              "  </tbody>\n",
              "</table>\n",
              "</div>\n",
              "      <button class=\"colab-df-convert\" onclick=\"convertToInteractive('df-17370dc5-408a-4c2e-9956-f986ab2b4f59')\"\n",
              "              title=\"Convert this dataframe to an interactive table.\"\n",
              "              style=\"display:none;\">\n",
              "        \n",
              "  <svg xmlns=\"http://www.w3.org/2000/svg\" height=\"24px\"viewBox=\"0 0 24 24\"\n",
              "       width=\"24px\">\n",
              "    <path d=\"M0 0h24v24H0V0z\" fill=\"none\"/>\n",
              "    <path d=\"M18.56 5.44l.94 2.06.94-2.06 2.06-.94-2.06-.94-.94-2.06-.94 2.06-2.06.94zm-11 1L8.5 8.5l.94-2.06 2.06-.94-2.06-.94L8.5 2.5l-.94 2.06-2.06.94zm10 10l.94 2.06.94-2.06 2.06-.94-2.06-.94-.94-2.06-.94 2.06-2.06.94z\"/><path d=\"M17.41 7.96l-1.37-1.37c-.4-.4-.92-.59-1.43-.59-.52 0-1.04.2-1.43.59L10.3 9.45l-7.72 7.72c-.78.78-.78 2.05 0 2.83L4 21.41c.39.39.9.59 1.41.59.51 0 1.02-.2 1.41-.59l7.78-7.78 2.81-2.81c.8-.78.8-2.07 0-2.86zM5.41 20L4 18.59l7.72-7.72 1.47 1.35L5.41 20z\"/>\n",
              "  </svg>\n",
              "      </button>\n",
              "      \n",
              "  <style>\n",
              "    .colab-df-container {\n",
              "      display:flex;\n",
              "      flex-wrap:wrap;\n",
              "      gap: 12px;\n",
              "    }\n",
              "\n",
              "    .colab-df-convert {\n",
              "      background-color: #E8F0FE;\n",
              "      border: none;\n",
              "      border-radius: 50%;\n",
              "      cursor: pointer;\n",
              "      display: none;\n",
              "      fill: #1967D2;\n",
              "      height: 32px;\n",
              "      padding: 0 0 0 0;\n",
              "      width: 32px;\n",
              "    }\n",
              "\n",
              "    .colab-df-convert:hover {\n",
              "      background-color: #E2EBFA;\n",
              "      box-shadow: 0px 1px 2px rgba(60, 64, 67, 0.3), 0px 1px 3px 1px rgba(60, 64, 67, 0.15);\n",
              "      fill: #174EA6;\n",
              "    }\n",
              "\n",
              "    [theme=dark] .colab-df-convert {\n",
              "      background-color: #3B4455;\n",
              "      fill: #D2E3FC;\n",
              "    }\n",
              "\n",
              "    [theme=dark] .colab-df-convert:hover {\n",
              "      background-color: #434B5C;\n",
              "      box-shadow: 0px 1px 3px 1px rgba(0, 0, 0, 0.15);\n",
              "      filter: drop-shadow(0px 1px 2px rgba(0, 0, 0, 0.3));\n",
              "      fill: #FFFFFF;\n",
              "    }\n",
              "  </style>\n",
              "\n",
              "      <script>\n",
              "        const buttonEl =\n",
              "          document.querySelector('#df-17370dc5-408a-4c2e-9956-f986ab2b4f59 button.colab-df-convert');\n",
              "        buttonEl.style.display =\n",
              "          google.colab.kernel.accessAllowed ? 'block' : 'none';\n",
              "\n",
              "        async function convertToInteractive(key) {\n",
              "          const element = document.querySelector('#df-17370dc5-408a-4c2e-9956-f986ab2b4f59');\n",
              "          const dataTable =\n",
              "            await google.colab.kernel.invokeFunction('convertToInteractive',\n",
              "                                                     [key], {});\n",
              "          if (!dataTable) return;\n",
              "\n",
              "          const docLinkHtml = 'Like what you see? Visit the ' +\n",
              "            '<a target=\"_blank\" href=https://colab.research.google.com/notebooks/data_table.ipynb>data table notebook</a>'\n",
              "            + ' to learn more about interactive tables.';\n",
              "          element.innerHTML = '';\n",
              "          dataTable['output_type'] = 'display_data';\n",
              "          await google.colab.output.renderOutput(dataTable, element);\n",
              "          const docLink = document.createElement('div');\n",
              "          docLink.innerHTML = docLinkHtml;\n",
              "          element.appendChild(docLink);\n",
              "        }\n",
              "      </script>\n",
              "    </div>\n",
              "  </div>\n",
              "  "
            ]
          },
          "metadata": {},
          "execution_count": 41
        }
      ]
    },
    {
      "cell_type": "code",
      "source": [
        "df.describe()"
      ],
      "metadata": {
        "colab": {
          "base_uri": "https://localhost:8080/",
          "height": 300
        },
        "id": "4zLBq31VeqK7",
        "outputId": "7efe5033-de9f-413b-e23f-c0775d6c793a"
      },
      "execution_count": 42,
      "outputs": [
        {
          "output_type": "execute_result",
          "data": {
            "text/plain": [
              "           Marks\n",
              "count   5.000000\n",
              "mean   92.200000\n",
              "std     4.604346\n",
              "min    86.000000\n",
              "25%    90.000000\n",
              "50%    92.000000\n",
              "75%    95.000000\n",
              "max    98.000000"
            ],
            "text/html": [
              "\n",
              "  <div id=\"df-f3f32ddc-677a-4e8b-82e0-843192093c69\">\n",
              "    <div class=\"colab-df-container\">\n",
              "      <div>\n",
              "<style scoped>\n",
              "    .dataframe tbody tr th:only-of-type {\n",
              "        vertical-align: middle;\n",
              "    }\n",
              "\n",
              "    .dataframe tbody tr th {\n",
              "        vertical-align: top;\n",
              "    }\n",
              "\n",
              "    .dataframe thead th {\n",
              "        text-align: right;\n",
              "    }\n",
              "</style>\n",
              "<table border=\"1\" class=\"dataframe\">\n",
              "  <thead>\n",
              "    <tr style=\"text-align: right;\">\n",
              "      <th></th>\n",
              "      <th>Marks</th>\n",
              "    </tr>\n",
              "  </thead>\n",
              "  <tbody>\n",
              "    <tr>\n",
              "      <th>count</th>\n",
              "      <td>5.000000</td>\n",
              "    </tr>\n",
              "    <tr>\n",
              "      <th>mean</th>\n",
              "      <td>92.200000</td>\n",
              "    </tr>\n",
              "    <tr>\n",
              "      <th>std</th>\n",
              "      <td>4.604346</td>\n",
              "    </tr>\n",
              "    <tr>\n",
              "      <th>min</th>\n",
              "      <td>86.000000</td>\n",
              "    </tr>\n",
              "    <tr>\n",
              "      <th>25%</th>\n",
              "      <td>90.000000</td>\n",
              "    </tr>\n",
              "    <tr>\n",
              "      <th>50%</th>\n",
              "      <td>92.000000</td>\n",
              "    </tr>\n",
              "    <tr>\n",
              "      <th>75%</th>\n",
              "      <td>95.000000</td>\n",
              "    </tr>\n",
              "    <tr>\n",
              "      <th>max</th>\n",
              "      <td>98.000000</td>\n",
              "    </tr>\n",
              "  </tbody>\n",
              "</table>\n",
              "</div>\n",
              "      <button class=\"colab-df-convert\" onclick=\"convertToInteractive('df-f3f32ddc-677a-4e8b-82e0-843192093c69')\"\n",
              "              title=\"Convert this dataframe to an interactive table.\"\n",
              "              style=\"display:none;\">\n",
              "        \n",
              "  <svg xmlns=\"http://www.w3.org/2000/svg\" height=\"24px\"viewBox=\"0 0 24 24\"\n",
              "       width=\"24px\">\n",
              "    <path d=\"M0 0h24v24H0V0z\" fill=\"none\"/>\n",
              "    <path d=\"M18.56 5.44l.94 2.06.94-2.06 2.06-.94-2.06-.94-.94-2.06-.94 2.06-2.06.94zm-11 1L8.5 8.5l.94-2.06 2.06-.94-2.06-.94L8.5 2.5l-.94 2.06-2.06.94zm10 10l.94 2.06.94-2.06 2.06-.94-2.06-.94-.94-2.06-.94 2.06-2.06.94z\"/><path d=\"M17.41 7.96l-1.37-1.37c-.4-.4-.92-.59-1.43-.59-.52 0-1.04.2-1.43.59L10.3 9.45l-7.72 7.72c-.78.78-.78 2.05 0 2.83L4 21.41c.39.39.9.59 1.41.59.51 0 1.02-.2 1.41-.59l7.78-7.78 2.81-2.81c.8-.78.8-2.07 0-2.86zM5.41 20L4 18.59l7.72-7.72 1.47 1.35L5.41 20z\"/>\n",
              "  </svg>\n",
              "      </button>\n",
              "      \n",
              "  <style>\n",
              "    .colab-df-container {\n",
              "      display:flex;\n",
              "      flex-wrap:wrap;\n",
              "      gap: 12px;\n",
              "    }\n",
              "\n",
              "    .colab-df-convert {\n",
              "      background-color: #E8F0FE;\n",
              "      border: none;\n",
              "      border-radius: 50%;\n",
              "      cursor: pointer;\n",
              "      display: none;\n",
              "      fill: #1967D2;\n",
              "      height: 32px;\n",
              "      padding: 0 0 0 0;\n",
              "      width: 32px;\n",
              "    }\n",
              "\n",
              "    .colab-df-convert:hover {\n",
              "      background-color: #E2EBFA;\n",
              "      box-shadow: 0px 1px 2px rgba(60, 64, 67, 0.3), 0px 1px 3px 1px rgba(60, 64, 67, 0.15);\n",
              "      fill: #174EA6;\n",
              "    }\n",
              "\n",
              "    [theme=dark] .colab-df-convert {\n",
              "      background-color: #3B4455;\n",
              "      fill: #D2E3FC;\n",
              "    }\n",
              "\n",
              "    [theme=dark] .colab-df-convert:hover {\n",
              "      background-color: #434B5C;\n",
              "      box-shadow: 0px 1px 3px 1px rgba(0, 0, 0, 0.15);\n",
              "      filter: drop-shadow(0px 1px 2px rgba(0, 0, 0, 0.3));\n",
              "      fill: #FFFFFF;\n",
              "    }\n",
              "  </style>\n",
              "\n",
              "      <script>\n",
              "        const buttonEl =\n",
              "          document.querySelector('#df-f3f32ddc-677a-4e8b-82e0-843192093c69 button.colab-df-convert');\n",
              "        buttonEl.style.display =\n",
              "          google.colab.kernel.accessAllowed ? 'block' : 'none';\n",
              "\n",
              "        async function convertToInteractive(key) {\n",
              "          const element = document.querySelector('#df-f3f32ddc-677a-4e8b-82e0-843192093c69');\n",
              "          const dataTable =\n",
              "            await google.colab.kernel.invokeFunction('convertToInteractive',\n",
              "                                                     [key], {});\n",
              "          if (!dataTable) return;\n",
              "\n",
              "          const docLinkHtml = 'Like what you see? Visit the ' +\n",
              "            '<a target=\"_blank\" href=https://colab.research.google.com/notebooks/data_table.ipynb>data table notebook</a>'\n",
              "            + ' to learn more about interactive tables.';\n",
              "          element.innerHTML = '';\n",
              "          dataTable['output_type'] = 'display_data';\n",
              "          await google.colab.output.renderOutput(dataTable, element);\n",
              "          const docLink = document.createElement('div');\n",
              "          docLink.innerHTML = docLinkHtml;\n",
              "          element.appendChild(docLink);\n",
              "        }\n",
              "      </script>\n",
              "    </div>\n",
              "  </div>\n",
              "  "
            ]
          },
          "metadata": {},
          "execution_count": 42
        }
      ]
    },
    {
      "cell_type": "code",
      "source": [],
      "metadata": {
        "id": "OFNu_RCietZ7"
      },
      "execution_count": null,
      "outputs": []
    }
  ]
}