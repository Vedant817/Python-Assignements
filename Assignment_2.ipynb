{
  "nbformat": 4,
  "nbformat_minor": 0,
  "metadata": {
    "colab": {
      "provenance": [],
      "authorship_tag": "ABX9TyNmZLrgbRnTWU/IDNu1VI/b",
      "include_colab_link": true
    },
    "kernelspec": {
      "name": "python3",
      "display_name": "Python 3"
    },
    "language_info": {
      "name": "python"
    }
  },
  "cells": [
    {
      "cell_type": "markdown",
      "metadata": {
        "id": "view-in-github",
        "colab_type": "text"
      },
      "source": [
        "<a href=\"https://colab.research.google.com/github/Vedant817/Python-Assignements/blob/main/Assignment_2.ipynb\" target=\"_parent\"><img src=\"https://colab.research.google.com/assets/colab-badge.svg\" alt=\"Open In Colab\"/></a>"
      ]
    },
    {
      "cell_type": "code",
      "execution_count": 1,
      "metadata": {
        "colab": {
          "base_uri": "https://localhost:8080/"
        },
        "id": "afeD--NJmIZu",
        "outputId": "d9cf1aa6-5ca1-4d5a-dfa0-e6991f0c3b6e"
      },
      "outputs": [
        {
          "output_type": "stream",
          "name": "stdout",
          "text": [
            "['Ram', 1, 'Shyam', 2, 'Aman', 3]\n"
          ]
        }
      ],
      "source": [
        "L=[\"Ram\",1,\"Shyam\",2,\"Aman\",3]\n",
        "print(L)"
      ]
    },
    {
      "cell_type": "code",
      "source": [
        "def mixs(num):\n",
        "  try:\n",
        "    ele=int(num)\n",
        "    return(0,ele,'')\n",
        "  except:\n",
        "    return(1,num,'')\n",
        "L.sort(key=mixs)\n",
        "print(L)"
      ],
      "metadata": {
        "colab": {
          "base_uri": "https://localhost:8080/"
        },
        "id": "SBX1FDipmmtN",
        "outputId": "6c999d36-d8e6-499d-a972-1a3b10dabcae"
      },
      "execution_count": 3,
      "outputs": [
        {
          "output_type": "stream",
          "name": "stdout",
          "text": [
            "[1, 2, 3, 'Aman', 'Ram', 'Shyam']\n"
          ]
        }
      ]
    }
  ]
}